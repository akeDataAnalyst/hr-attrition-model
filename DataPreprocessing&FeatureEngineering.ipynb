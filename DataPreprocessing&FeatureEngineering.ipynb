{
 "cells": [
  {
   "cell_type": "markdown",
   "id": "219e5e9c-09fd-445d-b42c-ee4bebfa5f8d",
   "metadata": {},
   "source": [
    "## HR Attrition Predictive Model for a Fintech Startup"
   ]
  },
  {
   "cell_type": "markdown",
   "id": "f1d0d83e-614e-4f89-851d-c56bbc86203f",
   "metadata": {},
   "source": [
    "This project demonstrates the end-to-end process of building a machine learning model to predict and mitigate employee attrition. Using a synthetic dataset modeled on a high-growth fintech company like Tabby, I identified key drivers of attrition and provided actionable, data-driven recommendations to improve employee retention."
   ]
  },
  {
   "cell_type": "markdown",
   "id": "46854ea5-100b-400e-bbec-65c213343e42",
   "metadata": {},
   "source": [
    "#### Problem Statement\n",
    "Employee turnover is a major challenge for high-growth companies, leading to significant costs in recruitment, training, and lost productivity. The goal of this project was to develop a predictive model that could identify employees at high risk of leaving, allowing the People Team to intervene proactively."
   ]
  },
  {
   "cell_type": "code",
   "execution_count": 1,
   "id": "a5ff4341-aa02-4a43-b715-163342748057",
   "metadata": {},
   "outputs": [],
   "source": [
    "import pandas as pd\n",
    "from sklearn.model_selection import train_test_split\n",
    "from sklearn.preprocessing import LabelEncoder, StandardScaler\n",
    "from sklearn.impute import SimpleImputer\n",
    "import numpy as np"
   ]
  },
  {
   "cell_type": "markdown",
   "id": "732aff59-02fe-42ea-9f8b-ccd1035ea05e",
   "metadata": {},
   "source": [
    "### Load dataset"
   ]
  },
  {
   "cell_type": "code",
   "execution_count": 2,
   "id": "0b29e7cc-d5f8-4b40-8a09-5ff505b3d4f5",
   "metadata": {},
   "outputs": [],
   "source": [
    "df = pd.read_csv('synthetic_hr_data.csv')"
   ]
  },
  {
   "cell_type": "markdown",
   "id": "08e662e8-d60f-499b-b2ed-7f6ae37dd1c5",
   "metadata": {},
   "source": [
    "### 1. Handling Missing Values"
   ]
  },
  {
   "cell_type": "code",
   "execution_count": 6,
   "id": "91b74832-cc83-4809-903a-ac15e5d217f4",
   "metadata": {},
   "outputs": [
    {
     "name": "stdout",
     "output_type": "stream",
     "text": [
      "After Missing Value Imputation\n",
      "PerformanceRating       0\n",
      "EngagementScore         0\n",
      "JobSatisfactionScore    0\n",
      "WorkLifeBalance         0\n",
      "dtype: int64\n",
      "\n",
      "\n"
     ]
    }
   ],
   "source": [
    "# We'll use a median imputer for numerical columns with missing data\n",
    "imputer = SimpleImputer(strategy='median')\n",
    "numerical_cols_to_impute = ['PerformanceRating', 'EngagementScore', 'JobSatisfactionScore', 'WorkLifeBalance']\n",
    "df[numerical_cols_to_impute] = imputer.fit_transform(df[numerical_cols_to_impute])\n",
    "\n",
    "print(\"After Missing Value Imputation\")\n",
    "print(df[numerical_cols_to_impute].isnull().sum())\n",
    "print(\"\\n\")"
   ]
  },
  {
   "cell_type": "markdown",
   "id": "a3619901-1503-4b13-8207-f3a6087b5e58",
   "metadata": {},
   "source": [
    "### 2. Feature Engineering"
   ]
  },
  {
   "cell_type": "code",
   "execution_count": 7,
   "id": "c506fc7f-e72a-4914-b35f-de0a91e5cc6a",
   "metadata": {},
   "outputs": [],
   "source": [
    "# Create a new feature: Salary Per Tenure\n",
    "df['SalaryPerTenure'] = df['SalaryUSD'] / (df['TenureMonths'] + 1) # Add 1 to avoid division by zero"
   ]
  },
  {
   "cell_type": "markdown",
   "id": "b2402f1e-3614-44de-92c7-ad0808d67830",
   "metadata": {},
   "source": [
    "### 3. Encoding Categorical Variables"
   ]
  },
  {
   "cell_type": "code",
   "execution_count": 8,
   "id": "374acc6f-d12f-42fa-81ae-c7820654d910",
   "metadata": {},
   "outputs": [],
   "source": [
    "# We need to drop EmployeeID as it's not a useful feature for the model.\n",
    "df = df.drop('EmployeeID', axis=1)"
   ]
  },
  {
   "cell_type": "code",
   "execution_count": 9,
   "id": "221eaab8-dffa-4789-90ff-a24ce585b00f",
   "metadata": {},
   "outputs": [],
   "source": [
    "# Manually encode binary 'OverTime' column\n",
    "df['OverTime'] = df['OverTime'].map({'Yes': 1, 'No': 0})"
   ]
  },
  {
   "cell_type": "code",
   "execution_count": 10,
   "id": "cb1abbee-da6c-4a90-a57c-7d4300b370ee",
   "metadata": {},
   "outputs": [],
   "source": [
    "# Separate features (X) and target (y)\n",
    "X = df.drop('Attrition', axis=1)\n",
    "y = df['Attrition']"
   ]
  },
  {
   "cell_type": "code",
   "execution_count": 11,
   "id": "0c4d902a-74d8-42af-bffd-edfb142ad377",
   "metadata": {},
   "outputs": [],
   "source": [
    "# Use LabelEncoder for the binary target variable 'Attrition'\n",
    "le = LabelEncoder()\n",
    "y = le.fit_transform(y)"
   ]
  },
  {
   "cell_type": "code",
   "execution_count": 12,
   "id": "61697c88-2e21-464f-99ef-e050dd9570b2",
   "metadata": {},
   "outputs": [],
   "source": [
    "# Get list of nominal categorical columns to one-hot encode\n",
    "nominal_cols = X.select_dtypes(include=['object']).columns"
   ]
  },
  {
   "cell_type": "code",
   "execution_count": 13,
   "id": "ba121db5-1b1f-4606-9a48-f99f8ea12dd8",
   "metadata": {},
   "outputs": [],
   "source": [
    "# One-Hot Encoding using pandas get_dummies()\n",
    "X_encoded = pd.get_dummies(X, columns=nominal_cols, drop_first=True)"
   ]
  },
  {
   "cell_type": "markdown",
   "id": "aaa95562-010b-4895-b44c-e109e257fef1",
   "metadata": {},
   "source": [
    "### 4. Feature Scaling"
   ]
  },
  {
   "cell_type": "code",
   "execution_count": 14,
   "id": "0e73dce7-a221-403f-9f41-6e5a3bb142cd",
   "metadata": {},
   "outputs": [],
   "source": [
    "# Scale all numerical features to have a mean of 0 and a standard deviation of 1\n",
    "# This is crucial for models like Logistic Regression.\n",
    "scaler = StandardScaler()\n",
    "# Exclude the one-hot encoded columns from scaling\n",
    "numerical_features = X_encoded.select_dtypes(include=np.number).columns\n",
    "X_encoded[numerical_features] = scaler.fit_transform(X_encoded[numerical_features])"
   ]
  },
  {
   "cell_type": "markdown",
   "id": "b8e10f79-1fc0-4dcc-b2b7-e180f39542f5",
   "metadata": {},
   "source": [
    "### 5. Splitting the Data"
   ]
  },
  {
   "cell_type": "code",
   "execution_count": 17,
   "id": "aadf3d08-1c25-4892-9188-a07cae71abd9",
   "metadata": {},
   "outputs": [
    {
     "name": "stdout",
     "output_type": "stream",
     "text": [
      "Data Splitting & Final Shapes\n",
      "Shape of X_train: (2000, 49)\n",
      "Shape of X_test: (500, 49)\n",
      "Shape of y_train: (2000,)\n",
      "Shape of y_test: (500,)\n"
     ]
    }
   ],
   "source": [
    "# Split the data into 80% training and 20% testing sets\n",
    "X_train, X_test, y_train, y_test = train_test_split(X_encoded, y, test_size=0.2, random_state=42, stratify=y)\n",
    "\n",
    "print(\"Data Splitting & Final Shapes\")\n",
    "print(f\"Shape of X_train: {X_train.shape}\")\n",
    "print(f\"Shape of X_test: {X_test.shape}\")\n",
    "print(f\"Shape of y_train: {y_train.shape}\")\n",
    "print(f\"Shape of y_test: {y_test.shape}\")"
   ]
  },
  {
   "cell_type": "code",
   "execution_count": 18,
   "id": "73f074ef-7652-4c4d-afdd-af944f5b920a",
   "metadata": {},
   "outputs": [
    {
     "data": {
      "text/html": [
       "<div>\n",
       "<style scoped>\n",
       "    .dataframe tbody tr th:only-of-type {\n",
       "        vertical-align: middle;\n",
       "    }\n",
       "\n",
       "    .dataframe tbody tr th {\n",
       "        vertical-align: top;\n",
       "    }\n",
       "\n",
       "    .dataframe thead th {\n",
       "        text-align: right;\n",
       "    }\n",
       "</style>\n",
       "<table border=\"1\" class=\"dataframe\">\n",
       "  <thead>\n",
       "    <tr style=\"text-align: right;\">\n",
       "      <th></th>\n",
       "      <th>Age</th>\n",
       "      <th>TenureMonths</th>\n",
       "      <th>PerformanceRating</th>\n",
       "      <th>EngagementScore</th>\n",
       "      <th>SalaryUSD</th>\n",
       "      <th>PromotionsLastYear</th>\n",
       "      <th>YearsSinceLastPromotion</th>\n",
       "      <th>WorkLifeBalance</th>\n",
       "      <th>OverTime</th>\n",
       "      <th>DistanceFromHome</th>\n",
       "      <th>HasStockOptions</th>\n",
       "      <th>JobSatisfactionScore</th>\n",
       "      <th>CultureAlignmentScore</th>\n",
       "      <th>Department</th>\n",
       "      <th>JobRole</th>\n",
       "      <th>Attrition</th>\n",
       "      <th>SalaryPerTenure</th>\n",
       "    </tr>\n",
       "  </thead>\n",
       "  <tbody>\n",
       "    <tr>\n",
       "      <th>0</th>\n",
       "      <td>50</td>\n",
       "      <td>99</td>\n",
       "      <td>3.0</td>\n",
       "      <td>7.0</td>\n",
       "      <td>99638</td>\n",
       "      <td>0</td>\n",
       "      <td>3</td>\n",
       "      <td>4.0</td>\n",
       "      <td>0</td>\n",
       "      <td>22</td>\n",
       "      <td>0</td>\n",
       "      <td>9.0</td>\n",
       "      <td>4</td>\n",
       "      <td>People</td>\n",
       "      <td>People Partner</td>\n",
       "      <td>Yes</td>\n",
       "      <td>996.380000</td>\n",
       "    </tr>\n",
       "    <tr>\n",
       "      <th>1</th>\n",
       "      <td>36</td>\n",
       "      <td>3</td>\n",
       "      <td>3.0</td>\n",
       "      <td>3.0</td>\n",
       "      <td>114072</td>\n",
       "      <td>0</td>\n",
       "      <td>0</td>\n",
       "      <td>3.0</td>\n",
       "      <td>1</td>\n",
       "      <td>50</td>\n",
       "      <td>0</td>\n",
       "      <td>2.0</td>\n",
       "      <td>1</td>\n",
       "      <td>Product</td>\n",
       "      <td>Product Manager</td>\n",
       "      <td>No</td>\n",
       "      <td>28518.000000</td>\n",
       "    </tr>\n",
       "    <tr>\n",
       "      <th>2</th>\n",
       "      <td>29</td>\n",
       "      <td>22</td>\n",
       "      <td>3.0</td>\n",
       "      <td>1.0</td>\n",
       "      <td>112309</td>\n",
       "      <td>0</td>\n",
       "      <td>0</td>\n",
       "      <td>4.0</td>\n",
       "      <td>1</td>\n",
       "      <td>48</td>\n",
       "      <td>0</td>\n",
       "      <td>9.0</td>\n",
       "      <td>4</td>\n",
       "      <td>Growth</td>\n",
       "      <td>Growth Analyst</td>\n",
       "      <td>No</td>\n",
       "      <td>4883.000000</td>\n",
       "    </tr>\n",
       "    <tr>\n",
       "      <th>3</th>\n",
       "      <td>42</td>\n",
       "      <td>4</td>\n",
       "      <td>4.0</td>\n",
       "      <td>4.0</td>\n",
       "      <td>169724</td>\n",
       "      <td>0</td>\n",
       "      <td>0</td>\n",
       "      <td>2.0</td>\n",
       "      <td>1</td>\n",
       "      <td>53</td>\n",
       "      <td>1</td>\n",
       "      <td>8.0</td>\n",
       "      <td>8</td>\n",
       "      <td>Growth</td>\n",
       "      <td>Growth Analyst</td>\n",
       "      <td>No</td>\n",
       "      <td>33944.800000</td>\n",
       "    </tr>\n",
       "    <tr>\n",
       "      <th>4</th>\n",
       "      <td>40</td>\n",
       "      <td>20</td>\n",
       "      <td>3.0</td>\n",
       "      <td>6.0</td>\n",
       "      <td>172843</td>\n",
       "      <td>0</td>\n",
       "      <td>0</td>\n",
       "      <td>2.0</td>\n",
       "      <td>0</td>\n",
       "      <td>59</td>\n",
       "      <td>0</td>\n",
       "      <td>9.0</td>\n",
       "      <td>8</td>\n",
       "      <td>Finance</td>\n",
       "      <td>Controller</td>\n",
       "      <td>No</td>\n",
       "      <td>8230.619048</td>\n",
       "    </tr>\n",
       "  </tbody>\n",
       "</table>\n",
       "</div>"
      ],
      "text/plain": [
       "   Age  TenureMonths  PerformanceRating  EngagementScore  SalaryUSD  \\\n",
       "0   50            99                3.0              7.0      99638   \n",
       "1   36             3                3.0              3.0     114072   \n",
       "2   29            22                3.0              1.0     112309   \n",
       "3   42             4                4.0              4.0     169724   \n",
       "4   40            20                3.0              6.0     172843   \n",
       "\n",
       "   PromotionsLastYear  YearsSinceLastPromotion  WorkLifeBalance  OverTime  \\\n",
       "0                   0                        3              4.0         0   \n",
       "1                   0                        0              3.0         1   \n",
       "2                   0                        0              4.0         1   \n",
       "3                   0                        0              2.0         1   \n",
       "4                   0                        0              2.0         0   \n",
       "\n",
       "   DistanceFromHome  HasStockOptions  JobSatisfactionScore  \\\n",
       "0                22                0                   9.0   \n",
       "1                50                0                   2.0   \n",
       "2                48                0                   9.0   \n",
       "3                53                1                   8.0   \n",
       "4                59                0                   9.0   \n",
       "\n",
       "   CultureAlignmentScore Department          JobRole Attrition  \\\n",
       "0                      4     People   People Partner       Yes   \n",
       "1                      1    Product  Product Manager        No   \n",
       "2                      4     Growth   Growth Analyst        No   \n",
       "3                      8     Growth   Growth Analyst        No   \n",
       "4                      8    Finance       Controller        No   \n",
       "\n",
       "   SalaryPerTenure  \n",
       "0       996.380000  \n",
       "1     28518.000000  \n",
       "2      4883.000000  \n",
       "3     33944.800000  \n",
       "4      8230.619048  "
      ]
     },
     "execution_count": 18,
     "metadata": {},
     "output_type": "execute_result"
    }
   ],
   "source": [
    "df.head()"
   ]
  },
  {
   "cell_type": "code",
   "execution_count": null,
   "id": "9a87818a-26f1-425f-9ef9-3eb6c9482966",
   "metadata": {},
   "outputs": [],
   "source": []
  }
 ],
 "metadata": {
  "kernelspec": {
   "display_name": "Python 3 (ipykernel)",
   "language": "python",
   "name": "python3"
  },
  "language_info": {
   "codemirror_mode": {
    "name": "ipython",
    "version": 3
   },
   "file_extension": ".py",
   "mimetype": "text/x-python",
   "name": "python",
   "nbconvert_exporter": "python",
   "pygments_lexer": "ipython3",
   "version": "3.11.4"
  }
 },
 "nbformat": 4,
 "nbformat_minor": 5
}
